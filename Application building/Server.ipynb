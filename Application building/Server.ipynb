{
 "cells": [
  {
   "cell_type": "code",
   "execution_count": 1,
   "id": "14cd5a26",
   "metadata": {},
   "outputs": [],
   "source": [
    "import sys"
   ]
  },
  {
   "cell_type": "code",
   "execution_count": 2,
   "id": "06773eec",
   "metadata": {},
   "outputs": [],
   "source": [
    "import Execution"
   ]
  },
  {
   "cell_type": "code",
   "execution_count": 3,
   "id": "3c0bee58",
   "metadata": {},
   "outputs": [],
   "source": [
    "from flask import Flask,render_template,redirect,url_for,request,redirect"
   ]
  },
  {
   "cell_type": "code",
   "execution_count": 4,
   "id": "5a5c42b7",
   "metadata": {},
   "outputs": [],
   "source": [
    "from flask_wtf import FlaskForm"
   ]
  },
  {
   "cell_type": "code",
   "execution_count": 5,
   "id": "9123df03",
   "metadata": {},
   "outputs": [],
   "source": [
    "from wtforms import SubmitField,FileField"
   ]
  },
  {
   "cell_type": "code",
   "execution_count": 6,
   "id": "7e00113e",
   "metadata": {},
   "outputs": [],
   "source": [
    "from werkzeug.utils import secure_filename"
   ]
  },
  {
   "cell_type": "code",
   "execution_count": 7,
   "id": "a900e2de",
   "metadata": {},
   "outputs": [],
   "source": [
    "import os"
   ]
  },
  {
   "cell_type": "code",
   "execution_count": 8,
   "id": "169a4967",
   "metadata": {},
   "outputs": [],
   "source": [
    "App = Flask(__name__)"
   ]
  },
  {
   "cell_type": "code",
   "execution_count": 9,
   "id": "5f7a99b0",
   "metadata": {},
   "outputs": [],
   "source": [
    "App.config[\"SECRET_KEY\"] = \"SSK\""
   ]
  },
  {
   "cell_type": "code",
   "execution_count": 11,
   "id": "c732fe03",
   "metadata": {},
   "outputs": [],
   "source": [
    "@App.route(\"/\",methods=[\"GET\",\"POST\"])\n",
    "@App.route(\"/Index1/Home\",methods=[\"GET\",\"POST\"])\n",
    "def HomeMethod():\n",
    "    return render_template(\"index.html\")\n",
    "    \n",
    "    \n",
    "    \n",
    "    \n",
    "\n",
    "    "
   ]
  },
  {
   "cell_type": "code",
   "execution_count": 12,
   "id": "7ff5b1cd",
   "metadata": {},
   "outputs": [],
   "source": [
    "'''\n",
    "@App.route(\"/Recognize/<File>\")\n",
    "def Recognize(File):\n",
    "    return \"5\"\n",
    "'''    \n",
    "    \n",
    "    \n",
    "    "
   ]
  },
  {
   "cell_type": "code",
   "execution_count": 13,
   "id": "a7cca833",
   "metadata": {},
   "outputs": [],
   "source": [
    "@App.route(\"/Recognize/\",methods=[\"GET\",\"POST\"])\n",
    "def RecognizePage():\n",
    "    if request.method == \"POST\":\n",
    "        if request.files:\n",
    "            \n",
    "            File = request.files[\"image\"]\n",
    "            List = os.listdir(\"C:\\\\Users\\\\bjpra\\\\Desktop\\\\IBM_PROJECT\\\\data\")\n",
    "            \n",
    "            File.save(os.path.join(\"C:\\\\Users\\\\bjpra\\\\Desktop\\\\IBM_PROJECT\\\\data\\\\\",secure_filename(File.filename)))\n",
    "            File = File.filename\n",
    "            StringRes = \"\"\n",
    "            Result = Execution.Execute(File)\n",
    "            for i in Result:\n",
    "                StringRes += str(i)\n",
    "            return render_template(\"recognize.html\",Result = StringRes)\n",
    "            \n",
    "    return render_template(\"recognize.html\")\n",
    "    \n",
    "    \n",
    "    "
   ]
  },
  {
   "cell_type": "markdown",
   "id": "25ce7e8d",
   "metadata": {},
   "source": [
    "@App.route('/')\n",
    "def HelloWorld():\n",
    "    return Hello World"
   ]
  },
  {
   "cell_type": "code",
   "execution_count": 14,
   "id": "7228a124",
   "metadata": {},
   "outputs": [],
   "source": [
    "#@App.route('/rule/Admin')\n",
    "#def GreetAdmin():\n",
    "#    return \"Hello Admin\""
   ]
  },
  {
   "cell_type": "code",
   "execution_count": 15,
   "id": "26c7ebce",
   "metadata": {},
   "outputs": [],
   "source": [
    "#@App.route('/rule2/<Guest>')\n",
    "#def GreetGuest(Guest):\n",
    "#    return \"Hello  %s \" % Guest"
   ]
  },
  {
   "cell_type": "code",
   "execution_count": 14,
   "id": "d79fd762",
   "metadata": {},
   "outputs": [
    {
     "name": "stdout",
     "output_type": "stream",
     "text": [
      " * Serving Flask app \"__main__\" (lazy loading)\n",
      " * Environment: production\n",
      "\u001b[31m   WARNING: This is a development server. Do not use it in a production deployment.\u001b[0m\n",
      "\u001b[2m   Use a production WSGI server instead.\u001b[0m\n",
      " * Debug mode: off\n"
     ]
    },
    {
     "name": "stderr",
     "output_type": "stream",
     "text": [
      " * Running on http://127.0.0.1:5000/ (Press CTRL+C to quit)\n",
      "127.0.0.1 - - [17/Nov/2022 21:35:24] \"GET / HTTP/1.1\" 200 -\n",
      "127.0.0.1 - - [17/Nov/2022 21:35:24] \"GET /assets/style.css HTTP/1.1\" 404 -\n",
      "127.0.0.1 - - [17/Nov/2022 21:35:24] \"GET /33.PNG HTTP/1.1\" 404 -\n",
      "127.0.0.1 - - [17/Nov/2022 21:35:24] \"GET /22.png HTTP/1.1\" 404 -\n",
      "127.0.0.1 - - [17/Nov/2022 21:35:24] \"GET /11.png HTTP/1.1\" 404 -\n",
      "127.0.0.1 - - [17/Nov/2022 21:35:24] \"GET /44.PNG HTTP/1.1\" 404 -\n",
      "127.0.0.1 - - [17/Nov/2022 21:35:26] \"GET /Recognize/ HTTP/1.1\" 200 -\n"
     ]
    },
    {
     "name": "stdout",
     "output_type": "stream",
     "text": [
      "1/1 [==============================] - 0s 81ms/step\n"
     ]
    },
    {
     "name": "stderr",
     "output_type": "stream",
     "text": [
      "127.0.0.1 - - [17/Nov/2022 21:35:30] \"POST /Recognize/ HTTP/1.1\" 200 -\n"
     ]
    },
    {
     "name": "stdout",
     "output_type": "stream",
     "text": [
      "[[3.9626021e-04 1.4434073e-06 3.5328608e-06 1.3474593e-04 1.2989124e-06\n",
      "  1.2811293e-02 1.5145920e-06 1.9403401e-09 7.2487563e-02 9.1416234e-01]]\n",
      "[9]\n"
     ]
    }
   ],
   "source": [
    "if __name__ == \"__main__\":\n",
    "    App.run()"
   ]
  },
  {
   "cell_type": "code",
   "execution_count": null,
   "id": "656af6d6",
   "metadata": {},
   "outputs": [],
   "source": []
  },
  {
   "cell_type": "code",
   "execution_count": null,
   "id": "1d9594b2",
   "metadata": {},
   "outputs": [],
   "source": []
  }
 ],
 "metadata": {
  "kernelspec": {
   "display_name": "Python 3 (ipykernel)",
   "language": "python",
   "name": "python3"
  },
  "language_info": {
   "codemirror_mode": {
    "name": "ipython",
    "version": 3
   },
   "file_extension": ".py",
   "mimetype": "text/x-python",
   "name": "python",
   "nbconvert_exporter": "python",
   "pygments_lexer": "ipython3",
   "version": "3.9.13"
  }
 },
 "nbformat": 4,
 "nbformat_minor": 5
}
