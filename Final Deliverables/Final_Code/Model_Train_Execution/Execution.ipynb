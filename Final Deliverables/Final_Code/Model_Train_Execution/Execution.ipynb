{
 "cells": [
  {
   "cell_type": "markdown",
   "id": "7fdf40bb",
   "metadata": {},
   "source": []
  },
  {
   "cell_type": "code",
   "execution_count": 4,
   "id": "b5f868aa",
   "metadata": {},
   "outputs": [
    {
     "name": "stdout",
     "output_type": "stream",
     "text": [
      "1/1 [==============================] - 0s 70ms/step\n",
      "[[0.08595134 0.07071972 0.10665713 0.5267953  0.03485164 0.07757091\n",
      "  0.02382089 0.02059847 0.03388568 0.01914883]]\n",
      "[3]\n"
     ]
    },
    {
     "data": {
      "text/plain": [
       "'\\nModel = load_model(r\"C:/Users/bjpra/Desktop/IBM_PROJECT/models/mnistCNN.h5\") \\ne = \"C:\\\\Users\\\\bjpra\\\\Desktop\\\\IBM_PROJECT\\\\data\\\\Image28.jpeg\"\\nFile = \"C:\\\\Users\\\\bjpra\\\\Desktop\\\\IBM_PROJECT\\\\data\\\\\"+\"Image28.jpeg\"\\nImage = Image.open(File).convert(\"L\")\\nImage = Image.resize((28,28) )\\nIm2Arr = np.array(Image)\\nIm2Arr = Im2Arr.reshape(1,28,28,1)\\nPrediction = Model.predict(Im2Arr)\\nprint(Prediction)\\nprint(np.argmax(Prediction,axis=1))\\n'"
      ]
     },
     "execution_count": 4,
     "metadata": {},
     "output_type": "execute_result"
    }
   ],
   "source": [
    "from tensorflow.keras.models import load_model\n",
    "from PIL import Image\n",
    "import numpy as np\n",
    "\n",
    "def Execute(File):\n",
    "    Model = load_model(r\"C:/Users/bjpra/Desktop/IBM_PROJECT/models/mnistCNN.h5\") \n",
    "    File = \"C:\\\\Users\\\\bjpra\\\\Desktop\\\\IBM_PROJECT\\\\data\\\\\"+File\n",
    "    Img = Image.open(File).convert(\"L\")\n",
    "    Img = Img.resize((28,28) )\n",
    "    Im2Arr = np.array(Img)\n",
    "    Im2Arr = Im2Arr.reshape(1,28,28,1)\n",
    "    Prediction = Model.predict(Im2Arr)\n",
    "    print(Prediction)\n",
    "    print(np.argmax(Prediction,axis=1))\n",
    "    \n",
    "            \n",
    "\n",
    "Execute(\"Image28.jpeg\")\n",
    "\n",
    "\n",
    "'''\n",
    "Model = load_model(r\"C:/Users/bjpra/Desktop/IBM_PROJECT/models/mnistCNN.h5\") \n",
    "e = \"C:\\\\Users\\\\bjpra\\\\Desktop\\\\IBM_PROJECT\\\\data\\\\Image28.jpeg\"\n",
    "File = \"C:\\\\Users\\\\bjpra\\\\Desktop\\\\IBM_PROJECT\\\\data\\\\\"+\"Image28.jpeg\"\n",
    "Image = Image.open(File).convert(\"L\")\n",
    "Image = Image.resize((28,28) )\n",
    "Im2Arr = np.array(Image)\n",
    "Im2Arr = Im2Arr.reshape(1,28,28,1)\n",
    "Prediction = Model.predict(Im2Arr)\n",
    "print(Prediction)\n",
    "print(np.argmax(Prediction,axis=1))\n",
    "'''"
   ]
  },
  {
   "cell_type": "code",
   "execution_count": 6,
   "id": "a3b0a3c9",
   "metadata": {},
   "outputs": [],
   "source": [
    "from tensorflow.keras.models import load_model"
   ]
  },
  {
   "cell_type": "code",
   "execution_count": 7,
   "id": "42a9717c",
   "metadata": {},
   "outputs": [],
   "source": [
    "from PIL import Image"
   ]
  },
  {
   "cell_type": "code",
   "execution_count": 8,
   "id": "67a3311c",
   "metadata": {},
   "outputs": [],
   "source": [
    "import numpy as np"
   ]
  },
  {
   "cell_type": "code",
   "execution_count": 9,
   "id": "4a5f5cc8",
   "metadata": {},
   "outputs": [],
   "source": [
    "Model = load_model(r\"C:/Users/bjpra/Desktop/IBM_PROJECT/models/mnistCNN.h5\")"
   ]
  },
  {
   "cell_type": "code",
   "execution_count": 10,
   "id": "7abd7a41",
   "metadata": {},
   "outputs": [
    {
     "name": "stdout",
     "output_type": "stream",
     "text": [
      "1/1 [==============================] - 0s 42ms/step\n",
      "[[3.9626021e-04 1.4434073e-06 3.5328608e-06 1.3474593e-04 1.2989124e-06\n",
      "  1.2811293e-02 1.5145920e-06 1.9403401e-09 7.2487563e-02 9.1416234e-01]]\n",
      "[9]\n"
     ]
    }
   ],
   "source": [
    "#print(r\"C:\\Users\\bjpra\\Desktop\\IBM_PROJECT\\data\\8.png\")\n",
    "e = \"C:\\\\Users\\\\bjpra\\\\Desktop\\\\IBM_PROJECT\\\\data\\\\Image28.jpeg\"\n",
    "File = r\"C:\\Users\\bjpra\\Desktop\\NIne.png\"\n",
    "Image = Image.open(File).convert(\"L\")\n",
    "Image = Image.resize((28,28))\n",
    "Im2Arr = np.array(Image)\n",
    "Im2Arr = Im2Arr.reshape(1,28,28,1)\n",
    "Prediction = Model.predict(Im2Arr)\n",
    "print(Prediction)\n",
    "print(np.argmax(Prediction,axis=1))\n",
    "    "
   ]
  },
  {
   "cell_type": "code",
   "execution_count": null,
   "id": "2e57a4f7",
   "metadata": {},
   "outputs": [],
   "source": []
  },
  {
   "cell_type": "code",
   "execution_count": null,
   "id": "529ebf43",
   "metadata": {},
   "outputs": [],
   "source": []
  },
  {
   "cell_type": "code",
   "execution_count": null,
   "id": "785b99be",
   "metadata": {},
   "outputs": [],
   "source": []
  },
  {
   "cell_type": "code",
   "execution_count": null,
   "id": "e57f96bf",
   "metadata": {},
   "outputs": [],
   "source": []
  }
 ],
 "metadata": {
  "kernelspec": {
   "display_name": "Python 3 (ipykernel)",
   "language": "python",
   "name": "python3"
  },
  "language_info": {
   "codemirror_mode": {
    "name": "ipython",
    "version": 3
   },
   "file_extension": ".py",
   "mimetype": "text/x-python",
   "name": "python",
   "nbconvert_exporter": "python",
   "pygments_lexer": "ipython3",
   "version": "3.9.13"
  }
 },
 "nbformat": 4,
 "nbformat_minor": 5
}
