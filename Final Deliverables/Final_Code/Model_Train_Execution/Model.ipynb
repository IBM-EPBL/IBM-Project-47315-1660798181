{
 "cells": [
  {
   "cell_type": "code",
   "execution_count": 1,
   "id": "27b7422c",
   "metadata": {},
   "outputs": [],
   "source": [
    "import numpy"
   ]
  },
  {
   "cell_type": "code",
   "execution_count": 2,
   "id": "0a8b062d",
   "metadata": {},
   "outputs": [],
   "source": [
    "from tensorflow.keras.models import load_model"
   ]
  },
  {
   "cell_type": "code",
   "execution_count": 3,
   "id": "88a67a53",
   "metadata": {},
   "outputs": [],
   "source": [
    "import tensorflow"
   ]
  },
  {
   "cell_type": "code",
   "execution_count": 4,
   "id": "91e116f9",
   "metadata": {},
   "outputs": [],
   "source": [
    "from tensorflow.keras.datasets import mnist"
   ]
  },
  {
   "cell_type": "code",
   "execution_count": 5,
   "id": "ea82fb9a",
   "metadata": {},
   "outputs": [],
   "source": [
    "from tensorflow.keras.models import Sequential"
   ]
  },
  {
   "cell_type": "code",
   "execution_count": 6,
   "id": "fa17bac0",
   "metadata": {},
   "outputs": [],
   "source": [
    "from tensorflow.keras import layers    "
   ]
  },
  {
   "cell_type": "code",
   "execution_count": 7,
   "id": "35ac4b75",
   "metadata": {},
   "outputs": [],
   "source": [
    "from tensorflow.keras.layers import  Dense,Flatten"
   ]
  },
  {
   "cell_type": "code",
   "execution_count": 8,
   "id": "a090ec0a",
   "metadata": {},
   "outputs": [],
   "source": [
    "from tensorflow.keras.layers import Conv2D"
   ]
  },
  {
   "cell_type": "code",
   "execution_count": 9,
   "id": "ebe37594",
   "metadata": {},
   "outputs": [],
   "source": [
    "from keras.optimizers import  Adam"
   ]
  },
  {
   "cell_type": "code",
   "execution_count": 10,
   "id": "7cd95246",
   "metadata": {},
   "outputs": [],
   "source": [
    "from keras.utils import np_utils"
   ]
  },
  {
   "cell_type": "code",
   "execution_count": 11,
   "id": "24bcebed",
   "metadata": {},
   "outputs": [],
   "source": [
    "import matplotlib.pyplot as plt"
   ]
  },
  {
   "cell_type": "code",
   "execution_count": 12,
   "id": "c3a00cde",
   "metadata": {},
   "outputs": [],
   "source": [
    "import numpy as np"
   ]
  },
  {
   "cell_type": "code",
   "execution_count": 13,
   "id": "884a673f",
   "metadata": {},
   "outputs": [],
   "source": [
    "from tensorflow.keras.optimizers import SGD"
   ]
  },
  {
   "cell_type": "code",
   "execution_count": 14,
   "id": "74eadf29",
   "metadata": {},
   "outputs": [],
   "source": [
    "(x_train,y_train),(x_test,y_test) = mnist.load_data()"
   ]
  },
  {
   "cell_type": "code",
   "execution_count": 15,
   "id": "912aa7b9",
   "metadata": {},
   "outputs": [],
   "source": [
    "#print(x_train.shape)"
   ]
  },
  {
   "cell_type": "code",
   "execution_count": 16,
   "id": "773ee247",
   "metadata": {},
   "outputs": [],
   "source": [
    "#print(x_test.shape)"
   ]
  },
  {
   "cell_type": "code",
   "execution_count": 17,
   "id": "1e35d93f",
   "metadata": {},
   "outputs": [],
   "source": [
    "#print(y_train)"
   ]
  },
  {
   "cell_type": "code",
   "execution_count": 18,
   "id": "1dedac13",
   "metadata": {},
   "outputs": [],
   "source": [
    "#print(y_train.shape)"
   ]
  },
  {
   "cell_type": "code",
   "execution_count": 19,
   "id": "fd0274c1",
   "metadata": {},
   "outputs": [],
   "source": [
    "#print(y_test.shape)"
   ]
  },
  {
   "cell_type": "code",
   "execution_count": 20,
   "id": "80930b9e",
   "metadata": {},
   "outputs": [],
   "source": [
    "#plt.imshow(x_train[0])"
   ]
  },
  {
   "cell_type": "code",
   "execution_count": 21,
   "id": "166bedbc",
   "metadata": {},
   "outputs": [],
   "source": [
    "#Reshping the data for CNN\n",
    "x_train = x_train.reshape(60000,28,28,1).astype(\"float32\")\n",
    "x_test = x_test.reshape(10000,28,28,1).astype(\"float32\")\n",
    "#print(x_train)\n",
    "#print(x_test)"
   ]
  },
  {
   "cell_type": "code",
   "execution_count": 22,
   "id": "a1ae6205",
   "metadata": {},
   "outputs": [
    {
     "name": "stdout",
     "output_type": "stream",
     "text": [
      "[[0. 0. 0. ... 0. 0. 0.]\n",
      " [1. 0. 0. ... 0. 0. 0.]\n",
      " [0. 0. 0. ... 0. 0. 0.]\n",
      " ...\n",
      " [0. 0. 0. ... 0. 0. 0.]\n",
      " [0. 0. 0. ... 0. 0. 0.]\n",
      " [0. 0. 0. ... 0. 1. 0.]]\n",
      "[[0. 0. 0. ... 1. 0. 0.]\n",
      " [0. 0. 1. ... 0. 0. 0.]\n",
      " [0. 1. 0. ... 0. 0. 0.]\n",
      " ...\n",
      " [0. 0. 0. ... 0. 0. 0.]\n",
      " [0. 0. 0. ... 0. 0. 0.]\n",
      " [0. 0. 0. ... 0. 0. 0.]]\n"
     ]
    }
   ],
   "source": [
    "#Changing the encoding type into ONE HOT ENCODING\n",
    "ClassCount = 10\n",
    "y_train = np_utils.to_categorical(y_train,ClassCount)\n",
    "y_test = np_utils.to_categorical(y_test,ClassCount)\n",
    "print(y_train)\n",
    "print(y_test)"
   ]
  },
  {
   "cell_type": "code",
   "execution_count": 23,
   "id": "f9de6495",
   "metadata": {},
   "outputs": [],
   "source": [
    "#Creating Sequential model\n",
    "Model = Sequential()"
   ]
  },
  {
   "cell_type": "code",
   "execution_count": 24,
   "id": "dd7abf6c",
   "metadata": {},
   "outputs": [],
   "source": [
    "#Adding Layer to the Sequential Model with Rectified Linear Unit activation function(NORMALIZATION)\n",
    "Model.add(Conv2D(64,(3,3), input_shape = (28,28,1),activation = 'relu'))\n",
    "Model.add(Conv2D(32,(3,3), activation= 'relu'     ))          "
   ]
  },
  {
   "cell_type": "code",
   "execution_count": 25,
   "id": "f247b5e1",
   "metadata": {},
   "outputs": [],
   "source": [
    "#Adding Layer to the Sequential Model to Flatten the image matrix\n",
    "Model.add(Flatten())"
   ]
  },
  {
   "cell_type": "code",
   "execution_count": 26,
   "id": "07cd3c29",
   "metadata": {},
   "outputs": [],
   "source": [
    "#Adding Layer to the  Sequential Model with Softmax activation function\n",
    "Model.add(Dense(ClassCount,activation='softmax'))"
   ]
  },
  {
   "cell_type": "code",
   "execution_count": 27,
   "id": "d51ccda7",
   "metadata": {},
   "outputs": [],
   "source": [
    "Model.compile(loss='categorical_crossentropy',optimizer=\"SGD\",metrics=['accuracy'])"
   ]
  },
  {
   "cell_type": "code",
   "execution_count": 29,
   "id": "ac904262",
   "metadata": {},
   "outputs": [
    {
     "name": "stdout",
     "output_type": "stream",
     "text": [
      "Epoch 1/70\n",
      "938/938 [==============================] - 23s 25ms/step - loss: 2.3012 - accuracy: 0.1124 - val_loss: 2.3010 - val_accuracy: 0.1135\n",
      "Epoch 2/70\n",
      "938/938 [==============================] - 23s 25ms/step - loss: 2.3012 - accuracy: 0.1124 - val_loss: 2.3010 - val_accuracy: 0.1135\n",
      "Epoch 3/70\n",
      "938/938 [==============================] - 24s 26ms/step - loss: 2.3012 - accuracy: 0.1124 - val_loss: 2.3010 - val_accuracy: 0.1135\n",
      "Epoch 4/70\n",
      "938/938 [==============================] - 25s 26ms/step - loss: 2.3012 - accuracy: 0.1124 - val_loss: 2.3010 - val_accuracy: 0.1135\n",
      "Epoch 5/70\n",
      "938/938 [==============================] - 25s 26ms/step - loss: 2.3012 - accuracy: 0.1124 - val_loss: 2.3010 - val_accuracy: 0.1135\n",
      "Epoch 6/70\n",
      "938/938 [==============================] - 24s 26ms/step - loss: 2.3012 - accuracy: 0.1124 - val_loss: 2.3010 - val_accuracy: 0.1135\n",
      "Epoch 7/70\n",
      "938/938 [==============================] - 25s 26ms/step - loss: 2.3012 - accuracy: 0.1124 - val_loss: 2.3010 - val_accuracy: 0.1135\n",
      "Epoch 8/70\n",
      "938/938 [==============================] - 25s 27ms/step - loss: 2.3012 - accuracy: 0.1124 - val_loss: 2.3010 - val_accuracy: 0.1135\n",
      "Epoch 9/70\n",
      "938/938 [==============================] - 25s 26ms/step - loss: 2.3012 - accuracy: 0.1124 - val_loss: 2.3010 - val_accuracy: 0.1135\n",
      "Epoch 10/70\n",
      "938/938 [==============================] - 26s 28ms/step - loss: 2.3012 - accuracy: 0.1124 - val_loss: 2.3010 - val_accuracy: 0.1135\n",
      "Epoch 11/70\n",
      "938/938 [==============================] - 25s 26ms/step - loss: 2.3012 - accuracy: 0.1124 - val_loss: 2.3010 - val_accuracy: 0.1135\n",
      "Epoch 12/70\n",
      "938/938 [==============================] - 27s 29ms/step - loss: 2.3012 - accuracy: 0.1124 - val_loss: 2.3010 - val_accuracy: 0.1135\n",
      "Epoch 13/70\n",
      "938/938 [==============================] - 29s 31ms/step - loss: 2.3012 - accuracy: 0.1124 - val_loss: 2.3010 - val_accuracy: 0.1135\n",
      "Epoch 14/70\n",
      "938/938 [==============================] - 29s 31ms/step - loss: 2.3012 - accuracy: 0.1124 - val_loss: 2.3010 - val_accuracy: 0.1135\n",
      "Epoch 15/70\n",
      "938/938 [==============================] - 33s 35ms/step - loss: 2.3012 - accuracy: 0.1124 - val_loss: 2.3010 - val_accuracy: 0.1135\n",
      "Epoch 16/70\n",
      "938/938 [==============================] - 32s 34ms/step - loss: 2.3012 - accuracy: 0.1124 - val_loss: 2.3010 - val_accuracy: 0.1135\n",
      "Epoch 17/70\n",
      "938/938 [==============================] - 29s 31ms/step - loss: 2.3012 - accuracy: 0.1124 - val_loss: 2.3010 - val_accuracy: 0.1135\n",
      "Epoch 18/70\n",
      "938/938 [==============================] - 31s 33ms/step - loss: 2.3012 - accuracy: 0.1124 - val_loss: 2.3010 - val_accuracy: 0.1135\n",
      "Epoch 19/70\n",
      "938/938 [==============================] - 31s 33ms/step - loss: 2.3012 - accuracy: 0.1124 - val_loss: 2.3010 - val_accuracy: 0.1135\n",
      "Epoch 20/70\n",
      "938/938 [==============================] - 33s 35ms/step - loss: 2.3012 - accuracy: 0.1124 - val_loss: 2.3010 - val_accuracy: 0.1135\n",
      "Epoch 21/70\n",
      "938/938 [==============================] - 28s 30ms/step - loss: 2.3012 - accuracy: 0.1124 - val_loss: 2.3010 - val_accuracy: 0.1135\n",
      "Epoch 22/70\n",
      "938/938 [==============================] - 25s 27ms/step - loss: 2.3012 - accuracy: 0.1124 - val_loss: 2.3010 - val_accuracy: 0.1135\n",
      "Epoch 23/70\n",
      "938/938 [==============================] - 25s 26ms/step - loss: 2.3012 - accuracy: 0.1124 - val_loss: 2.3010 - val_accuracy: 0.1135\n",
      "Epoch 24/70\n",
      "938/938 [==============================] - 25s 26ms/step - loss: 2.3012 - accuracy: 0.1124 - val_loss: 2.3010 - val_accuracy: 0.1135\n",
      "Epoch 25/70\n",
      "938/938 [==============================] - 25s 27ms/step - loss: 2.3012 - accuracy: 0.1124 - val_loss: 2.3010 - val_accuracy: 0.1135\n",
      "Epoch 26/70\n",
      "938/938 [==============================] - 26s 27ms/step - loss: 2.3012 - accuracy: 0.1124 - val_loss: 2.3010 - val_accuracy: 0.1135\n",
      "Epoch 27/70\n",
      "938/938 [==============================] - 25s 27ms/step - loss: 2.3012 - accuracy: 0.1124 - val_loss: 2.3010 - val_accuracy: 0.1135\n",
      "Epoch 28/70\n",
      "938/938 [==============================] - 25s 27ms/step - loss: 2.3012 - accuracy: 0.1124 - val_loss: 2.3010 - val_accuracy: 0.1135\n",
      "Epoch 29/70\n",
      "938/938 [==============================] - 25s 26ms/step - loss: 2.3012 - accuracy: 0.1124 - val_loss: 2.3010 - val_accuracy: 0.1135\n",
      "Epoch 30/70\n",
      "938/938 [==============================] - 25s 27ms/step - loss: 2.3012 - accuracy: 0.1124 - val_loss: 2.3010 - val_accuracy: 0.1135\n",
      "Epoch 31/70\n",
      "938/938 [==============================] - 26s 28ms/step - loss: 2.3012 - accuracy: 0.1124 - val_loss: 2.3010 - val_accuracy: 0.1135\n",
      "Epoch 32/70\n",
      "938/938 [==============================] - 26s 28ms/step - loss: 2.3012 - accuracy: 0.1124 - val_loss: 2.3011 - val_accuracy: 0.1135\n",
      "Epoch 33/70\n",
      "938/938 [==============================] - 26s 28ms/step - loss: 2.3012 - accuracy: 0.1124 - val_loss: 2.3010 - val_accuracy: 0.1135\n",
      "Epoch 34/70\n",
      "938/938 [==============================] - 26s 27ms/step - loss: 2.3012 - accuracy: 0.1124 - val_loss: 2.3010 - val_accuracy: 0.1135\n",
      "Epoch 35/70\n",
      "938/938 [==============================] - 27s 29ms/step - loss: 2.3012 - accuracy: 0.1124 - val_loss: 2.3010 - val_accuracy: 0.1135\n",
      "Epoch 36/70\n",
      "938/938 [==============================] - 27s 28ms/step - loss: 2.3012 - accuracy: 0.1124 - val_loss: 2.3010 - val_accuracy: 0.1135\n",
      "Epoch 37/70\n",
      "938/938 [==============================] - 25s 26ms/step - loss: 2.3012 - accuracy: 0.1124 - val_loss: 2.3010 - val_accuracy: 0.1135\n",
      "Epoch 38/70\n",
      "938/938 [==============================] - 26s 27ms/step - loss: 2.3012 - accuracy: 0.1124 - val_loss: 2.3011 - val_accuracy: 0.1135\n",
      "Epoch 39/70\n",
      "938/938 [==============================] - 25s 27ms/step - loss: 2.3012 - accuracy: 0.1124 - val_loss: 2.3010 - val_accuracy: 0.1135\n",
      "Epoch 40/70\n",
      "938/938 [==============================] - 26s 28ms/step - loss: 2.3012 - accuracy: 0.1124 - val_loss: 2.3010 - val_accuracy: 0.1135\n",
      "Epoch 41/70\n",
      "938/938 [==============================] - 25s 27ms/step - loss: 2.3012 - accuracy: 0.1124 - val_loss: 2.3010 - val_accuracy: 0.1135\n",
      "Epoch 42/70\n",
      "938/938 [==============================] - 26s 27ms/step - loss: 2.3012 - accuracy: 0.1124 - val_loss: 2.3010 - val_accuracy: 0.1135\n",
      "Epoch 43/70\n",
      "938/938 [==============================] - 27s 29ms/step - loss: 2.3012 - accuracy: 0.1124 - val_loss: 2.3010 - val_accuracy: 0.1135\n",
      "Epoch 44/70\n",
      "938/938 [==============================] - 26s 27ms/step - loss: 2.3012 - accuracy: 0.1124 - val_loss: 2.3010 - val_accuracy: 0.1135\n",
      "Epoch 45/70\n",
      "938/938 [==============================] - 28s 30ms/step - loss: 2.3012 - accuracy: 0.1124 - val_loss: 2.3010 - val_accuracy: 0.1135\n",
      "Epoch 46/70\n",
      "938/938 [==============================] - 29s 31ms/step - loss: 2.3012 - accuracy: 0.1124 - val_loss: 2.3010 - val_accuracy: 0.1135\n",
      "Epoch 47/70\n",
      "938/938 [==============================] - 26s 27ms/step - loss: 2.3012 - accuracy: 0.1124 - val_loss: 2.3010 - val_accuracy: 0.1135\n",
      "Epoch 48/70\n",
      "938/938 [==============================] - 26s 28ms/step - loss: 2.3012 - accuracy: 0.1124 - val_loss: 2.3010 - val_accuracy: 0.1135\n",
      "Epoch 49/70\n",
      "938/938 [==============================] - 27s 28ms/step - loss: 2.3012 - accuracy: 0.1124 - val_loss: 2.3010 - val_accuracy: 0.1135\n",
      "Epoch 50/70\n",
      "938/938 [==============================] - 26s 28ms/step - loss: 2.3012 - accuracy: 0.1124 - val_loss: 2.3010 - val_accuracy: 0.1135\n",
      "Epoch 51/70\n",
      "938/938 [==============================] - 27s 29ms/step - loss: 2.3012 - accuracy: 0.1124 - val_loss: 2.3010 - val_accuracy: 0.1135\n",
      "Epoch 52/70\n",
      "938/938 [==============================] - 27s 29ms/step - loss: 2.3012 - accuracy: 0.1124 - val_loss: 2.3010 - val_accuracy: 0.1135\n",
      "Epoch 53/70\n",
      "938/938 [==============================] - 25s 27ms/step - loss: 2.3012 - accuracy: 0.1124 - val_loss: 2.3010 - val_accuracy: 0.1135\n",
      "Epoch 54/70\n",
      "938/938 [==============================] - 25s 26ms/step - loss: 2.3012 - accuracy: 0.1124 - val_loss: 2.3010 - val_accuracy: 0.1135\n",
      "Epoch 55/70\n",
      "938/938 [==============================] - 24s 26ms/step - loss: 2.3012 - accuracy: 0.1124 - val_loss: 2.3010 - val_accuracy: 0.1135\n",
      "Epoch 56/70\n",
      "938/938 [==============================] - 24s 26ms/step - loss: 2.3012 - accuracy: 0.1124 - val_loss: 2.3010 - val_accuracy: 0.1135\n",
      "Epoch 57/70\n"
     ]
    },
    {
     "name": "stdout",
     "output_type": "stream",
     "text": [
      "938/938 [==============================] - 25s 27ms/step - loss: 2.3012 - accuracy: 0.1124 - val_loss: 2.3010 - val_accuracy: 0.1135\n",
      "Epoch 58/70\n",
      "938/938 [==============================] - 25s 26ms/step - loss: 2.3012 - accuracy: 0.1124 - val_loss: 2.3010 - val_accuracy: 0.1135\n",
      "Epoch 59/70\n",
      "938/938 [==============================] - 25s 26ms/step - loss: 2.3012 - accuracy: 0.1124 - val_loss: 2.3010 - val_accuracy: 0.1135\n",
      "Epoch 60/70\n",
      "938/938 [==============================] - 25s 26ms/step - loss: 2.3012 - accuracy: 0.1124 - val_loss: 2.3010 - val_accuracy: 0.1135\n",
      "Epoch 61/70\n",
      "938/938 [==============================] - 25s 27ms/step - loss: 2.3012 - accuracy: 0.1124 - val_loss: 2.3010 - val_accuracy: 0.1135\n",
      "Epoch 62/70\n",
      "938/938 [==============================] - 25s 26ms/step - loss: 2.3012 - accuracy: 0.1124 - val_loss: 2.3010 - val_accuracy: 0.1135\n",
      "Epoch 63/70\n",
      "938/938 [==============================] - 26s 27ms/step - loss: 2.3012 - accuracy: 0.1124 - val_loss: 2.3010 - val_accuracy: 0.1135\n",
      "Epoch 64/70\n",
      "938/938 [==============================] - 25s 27ms/step - loss: 2.3012 - accuracy: 0.1124 - val_loss: 2.3010 - val_accuracy: 0.1135\n",
      "Epoch 65/70\n",
      "938/938 [==============================] - 27s 29ms/step - loss: 2.3012 - accuracy: 0.1124 - val_loss: 2.3010 - val_accuracy: 0.1135\n",
      "Epoch 66/70\n",
      "938/938 [==============================] - 25s 26ms/step - loss: 2.3012 - accuracy: 0.1124 - val_loss: 2.3010 - val_accuracy: 0.1135\n",
      "Epoch 67/70\n",
      "938/938 [==============================] - 29s 31ms/step - loss: 2.3012 - accuracy: 0.1124 - val_loss: 2.3010 - val_accuracy: 0.1135\n",
      "Epoch 68/70\n",
      "938/938 [==============================] - 28s 30ms/step - loss: 2.3012 - accuracy: 0.1124 - val_loss: 2.3010 - val_accuracy: 0.1135\n",
      "Epoch 69/70\n",
      "938/938 [==============================] - 27s 29ms/step - loss: 2.3012 - accuracy: 0.1124 - val_loss: 2.3010 - val_accuracy: 0.1135\n",
      "Epoch 70/70\n",
      "938/938 [==============================] - 30s 32ms/step - loss: 2.3012 - accuracy: 0.1124 - val_loss: 2.3010 - val_accuracy: 0.1135\n"
     ]
    },
    {
     "data": {
      "text/plain": [
       "<keras.callbacks.History at 0x227e582b7c0>"
      ]
     },
     "execution_count": 29,
     "metadata": {},
     "output_type": "execute_result"
    }
   ],
   "source": [
    "Model.fit(x_train,y_train,validation_data = (x_test,y_test),epochs = 70,batch_size = 64,validation_split = 0.2)"
   ]
  },
  {
   "cell_type": "code",
   "execution_count": 31,
   "id": "523ee154",
   "metadata": {},
   "outputs": [
    {
     "name": "stdout",
     "output_type": "stream",
     "text": [
      "313/313 [==============================] - 2s 8ms/step - loss: 2.3010 - accuracy: 0.1135\n",
      "Test Losss and Test accuracy\n",
      "[2.301020383834839, 0.11349999904632568]\n"
     ]
    }
   ],
   "source": [
    "Metrics = Model.evaluate(x_test,y_test,verbose=1)\n",
    "print(\"Test Losss and Test accuracy\")\n",
    "print(Metrics)"
   ]
  },
  {
   "cell_type": "code",
   "execution_count": 32,
   "id": "4e8dfb53",
   "metadata": {},
   "outputs": [
    {
     "name": "stdout",
     "output_type": "stream",
     "text": [
      "1/1 [==============================] - 0s 310ms/step\n",
      "[[0.09854448 0.11213045 0.09960271 0.10226054 0.09733802 0.09045285\n",
      "  0.09900323 0.10410815 0.09747919 0.0990804 ]\n",
      " [0.09854448 0.11213045 0.09960271 0.10226054 0.09733802 0.09045285\n",
      "  0.09900323 0.10410815 0.09747919 0.0990804 ]\n",
      " [0.09854448 0.11213045 0.09960271 0.10226054 0.09733802 0.09045285\n",
      "  0.09900323 0.10410815 0.09747919 0.0990804 ]\n",
      " [0.09854448 0.11213045 0.09960271 0.10226054 0.09733802 0.09045285\n",
      "  0.09900323 0.10410815 0.09747919 0.0990804 ]]\n",
      "[1 1 1 1]\n",
      "[[0. 0. 0. 0. 0. 0. 0. 1. 0. 0.]\n",
      " [0. 0. 1. 0. 0. 0. 0. 0. 0. 0.]\n",
      " [0. 1. 0. 0. 0. 0. 0. 0. 0. 0.]\n",
      " [1. 0. 0. 0. 0. 0. 0. 0. 0. 0.]]\n"
     ]
    }
   ],
   "source": [
    "Prediction = Model.predict(x_test[:4])\n",
    "print(Prediction)\n",
    "print(np.argmax(Prediction,axis=1))\n",
    "print(y_test[:4])\n"
   ]
  },
  {
   "cell_type": "code",
   "execution_count": 33,
   "id": "a120d71d",
   "metadata": {},
   "outputs": [],
   "source": [
    "#Saving the model\n",
    "Model.save('models/mnistCNN.h5')"
   ]
  },
  {
   "cell_type": "code",
   "execution_count": null,
   "id": "174b112b",
   "metadata": {},
   "outputs": [],
   "source": []
  },
  {
   "cell_type": "code",
   "execution_count": null,
   "id": "30bd0193",
   "metadata": {},
   "outputs": [],
   "source": []
  }
 ],
 "metadata": {
  "kernelspec": {
   "display_name": "Python 3 (ipykernel)",
   "language": "python",
   "name": "python3"
  },
  "language_info": {
   "codemirror_mode": {
    "name": "ipython",
    "version": 3
   },
   "file_extension": ".py",
   "mimetype": "text/x-python",
   "name": "python",
   "nbconvert_exporter": "python",
   "pygments_lexer": "ipython3",
   "version": "3.9.13"
  }
 },
 "nbformat": 4,
 "nbformat_minor": 5
}
